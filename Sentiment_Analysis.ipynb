{
 "cells": [
  {
   "cell_type": "code",
   "execution_count": 30,
   "metadata": {},
   "outputs": [],
   "source": [
    "# -*- coding: utf-8 -*-\n",
    "import pandas as pd\n",
    "import matplotlib.pyplot as plt\n",
    "import seaborn as sns\n",
    "import joblib\n",
    "from tqdm import tqdm\n",
    "from sklearn.feature_extraction.text import TfidfVectorizer\n",
    "from sklearn.model_selection import train_test_split\n",
    "from sklearn.svm import SVC\n",
    "from sklearn.linear_model import LogisticRegression\n",
    "from sklearn.metrics import (accuracy_score, classification_report, \n",
    "                             confusion_matrix, ConfusionMatrixDisplay)\n",
    "from sklearn.svm import LinearSVC"
   ]
  },
  {
   "cell_type": "code",
   "execution_count": 31,
   "metadata": {},
   "outputs": [],
   "source": [
    "df = pd.read_csv('cleaned_reviews.csv')"
   ]
  },
  {
   "cell_type": "code",
   "execution_count": 32,
   "metadata": {},
   "outputs": [],
   "source": [
    "X_train, X_temp, y_train, y_temp = train_test_split(\n",
    "    df['cleaned_review'],\n",
    "    df['sentiment'],\n",
    "    test_size=0.2,\n",
    "    stratify=df['sentiment'],\n",
    "    random_state=42\n",
    ")\n",
    "\n",
    "X_val, X_test, y_val, y_test = train_test_split(\n",
    "    X_temp,\n",
    "    y_temp,\n",
    "    test_size=0.5,\n",
    "    stratify=y_temp,\n",
    "    random_state=42\n",
    ")"
   ]
  },
  {
   "cell_type": "code",
   "execution_count": 33,
   "metadata": {},
   "outputs": [
    {
     "name": "stdout",
     "output_type": "stream",
     "text": [
      "\n",
      "Vectorizing text...\n"
     ]
    }
   ],
   "source": [
    "print(\"\\nVectorizing text...\")\n",
    "tfidf = TfidfVectorizer(\n",
    "    max_features=20000,  # Increase features\n",
    "    ngram_range=(1, 3),  # Add trigrams\n",
    "    min_df=5,            # Ignore very rare words\n",
    "    max_df=0.9,          # Ignore too frequent words\n",
    "    stop_words='english'\n",
    ")"
   ]
  },
  {
   "cell_type": "code",
   "execution_count": 34,
   "metadata": {},
   "outputs": [
    {
     "name": "stderr",
     "output_type": "stream",
     "text": [
      "TF-IDF Processing: 100%|██████████| 3/3 [00:28<00:00,  9.53s/it]\n"
     ]
    }
   ],
   "source": [
    "with tqdm(total=3, desc=\"TF-IDF Processing\") as pbar:\n",
    "    X_train_tfidf = tfidf.fit_transform(X_train)\n",
    "    pbar.update(1)\n",
    "    X_val_tfidf = tfidf.transform(X_val)\n",
    "    pbar.update(1)\n",
    "    X_test_tfidf = tfidf.transform(X_test)\n",
    "    pbar.update(1)\n"
   ]
  },
  {
   "cell_type": "code",
   "execution_count": 35,
   "metadata": {},
   "outputs": [
    {
     "name": "stderr",
     "output_type": "stream",
     "text": [
      "Training Logistic Regression: 100%|██████████████████████████████| 100/100 [00:00<00:00, 241.07it/s]\n"
     ]
    },
    {
     "name": "stdout",
     "output_type": "stream",
     "text": [
      "\n",
      "Logistic Regression Validation Results:\n",
      "Accuracy: 0.8959\n",
      "              precision    recall  f1-score   support\n",
      "\n",
      "    negative       0.91      0.88      0.89      2470\n",
      "    positive       0.89      0.91      0.90      2488\n",
      "\n",
      "    accuracy                           0.90      4958\n",
      "   macro avg       0.90      0.90      0.90      4958\n",
      "weighted avg       0.90      0.90      0.90      4958\n",
      "\n"
     ]
    },
    {
     "name": "stderr",
     "output_type": "stream",
     "text": [
      "Training SVM:   0%|                                                         | 0/100 [00:00<?, ?it/s]c:\\Users\\medse\\anaconda3\\Lib\\site-packages\\sklearn\\svm\\_classes.py:31: FutureWarning: The default value of `dual` will change from `True` to `'auto'` in 1.5. Set the value of `dual` explicitly to suppress the warning.\n",
      "  warnings.warn(\n",
      "Training SVM: 100%|██████████████████████████████████████████████| 100/100 [00:00<00:00, 210.17it/s]"
     ]
    },
    {
     "name": "stdout",
     "output_type": "stream",
     "text": [
      "\n",
      "SVM Validation Results:\n",
      "Accuracy: 0.8937\n",
      "              precision    recall  f1-score   support\n",
      "\n",
      "    negative       0.89      0.89      0.89      2470\n",
      "    positive       0.89      0.90      0.89      2488\n",
      "\n",
      "    accuracy                           0.89      4958\n",
      "   macro avg       0.89      0.89      0.89      4958\n",
      "weighted avg       0.89      0.89      0.89      4958\n",
      "\n"
     ]
    },
    {
     "name": "stderr",
     "output_type": "stream",
     "text": [
      "\n"
     ]
    }
   ],
   "source": [
    "models = {\n",
    "    'Logistic Regression': LogisticRegression(class_weight='balanced', max_iter=1000),\n",
    "    'SVM': LinearSVC(C=1.0, class_weight='balanced', max_iter=1000) #, class_weight='balanced', probability=True\n",
    "} \n",
    "\n",
    "results = []\n",
    "model_objects = {}\n",
    "\n",
    "for model_name, model in models.items():\n",
    "    with tqdm(total=100, desc=f\"Training {model_name}\", ncols=100) as pbar:\n",
    "        # Training phase\n",
    "        model.fit(X_train_tfidf, y_train)\n",
    "        pbar.update(70)  # Simulating 70% progress for training\n",
    "        \n",
    "        # Validation phase\n",
    "        y_val_pred = model.predict(X_val_tfidf)\n",
    "        pbar.update(20)  # 20% for validation\n",
    "        \n",
    "        # Metrics calculation\n",
    "        report = classification_report(y_val, y_val_pred, output_dict=True)\n",
    "        pbar.update(10)  # 10% for metrics\n",
    "        \n",
    "        # Store results\n",
    "        results.append({\n",
    "            'Model': model_name,\n",
    "            'Validation Accuracy': accuracy_score(y_val, y_val_pred),\n",
    "            'Classification Report': report\n",
    "        })\n",
    "        model_objects[model_name] = model\n",
    "\n",
    "    # Print metrics\n",
    "    print(f\"\\n{model_name} Validation Results:\")\n",
    "    print(f\"Accuracy: {accuracy_score(y_val, y_val_pred):.4f}\")\n",
    "    print(classification_report(y_val, y_val_pred))\n"
   ]
  },
  {
   "cell_type": "code",
   "execution_count": 36,
   "metadata": {},
   "outputs": [
    {
     "name": "stdout",
     "output_type": "stream",
     "text": [
      "\n",
      "Model Comparison Metrics:\n",
      "Model                 Logistic Regression       SVM\n",
      "Accuracy                         0.895926  0.893707\n",
      "Precision (Positive)             0.886667  0.892986\n",
      "Recall (Positive)                0.908762  0.895498\n",
      "F1 (Positive)                    0.897578  0.894240\n",
      "Precision (Negative)             0.905731  0.894438\n",
      "Recall (Negative)                0.882996  0.891903\n",
      "F1 (Negative)                    0.894219  0.893168\n"
     ]
    }
   ],
   "source": [
    "comparison_df = pd.DataFrame(results)\n",
    "\n",
    "# Extract precision/recall/f1 metrics\n",
    "metrics = []\n",
    "for result in results:\n",
    "    report = result['Classification Report']\n",
    "    metrics.append({\n",
    "        'Model': result['Model'],\n",
    "        'Accuracy': result['Validation Accuracy'],\n",
    "        'Precision (Positive)': report['positive']['precision'],\n",
    "        'Recall (Positive)': report['positive']['recall'],\n",
    "        'F1 (Positive)': report['positive']['f1-score'],\n",
    "        'Precision (Negative)': report['negative']['precision'],\n",
    "        'Recall (Negative)': report['negative']['recall'],\n",
    "        'F1 (Negative)': report['negative']['f1-score']\n",
    "    })\n",
    "\n",
    "metric_df = pd.DataFrame(metrics).set_index('Model')\n",
    "print(\"\\nModel Comparison Metrics:\")\n",
    "print(metric_df.T)"
   ]
  },
  {
   "cell_type": "code",
   "execution_count": 37,
   "metadata": {},
   "outputs": [
    {
     "data": {
      "text/plain": [
       "<Figure size 1000x600 with 0 Axes>"
      ]
     },
     "metadata": {},
     "output_type": "display_data"
    },
    {
     "data": {
      "image/png": "[encoded data removed]",
      "text/plain": [
       "<Figure size 640x480 with 1 Axes>"
      ]
     },
     "metadata": {},
     "output_type": "display_data"
    }
   ],
   "source": [
    "plt.figure(figsize=(10, 6))\n",
    "metric_df[['Accuracy']].plot(kind='bar', rot=0)\n",
    "plt.title('Model Accuracy Comparison')\n",
    "plt.ylabel('Score')\n",
    "plt.ylim(0.7, 1.0)\n",
    "plt.show()"
   ]
  },
  {
   "cell_type": "code",
   "execution_count": 38,
   "metadata": {},
   "outputs": [
    {
     "name": "stdout",
     "output_type": "stream",
     "text": [
      "\n",
      "========================================\n",
      "Evaluating Best Model (Logistic Regression) on Test Set\n",
      "========================================\n",
      "Test Accuracy: 0.8939\n",
      "              precision    recall  f1-score   support\n",
      "\n",
      "    negative       0.90      0.88      0.89      2470\n",
      "    positive       0.88      0.91      0.90      2489\n",
      "\n",
      "    accuracy                           0.89      4959\n",
      "   macro avg       0.89      0.89      0.89      4959\n",
      "weighted avg       0.89      0.89      0.89      4959\n",
      "\n"
     ]
    }
   ],
   "source": [
    "best_model_name = max(results, key=lambda x: x['Validation Accuracy'])['Model']\n",
    "best_model = models[best_model_name]\n",
    "\n",
    "print(f\"\\n{'='*40}\\nEvaluating Best Model ({best_model_name}) on Test Set\\n{'='*40}\")\n",
    "\n",
    "# Test evaluation\n",
    "y_test_pred = best_model.predict(X_test_tfidf)\n",
    "print(f\"Test Accuracy: {accuracy_score(y_test, y_test_pred):.4f}\")\n",
    "print(classification_report(y_test, y_test_pred))"
   ]
  },
  {
   "cell_type": "code",
   "execution_count": 39,
   "metadata": {},
   "outputs": [
    {
     "data": {
      "text/plain": [
       "['best_model.pkl']"
      ]
     },
     "execution_count": 39,
     "metadata": {},
     "output_type": "execute_result"
    }
   ],
   "source": [
    "joblib.dump(tfidf, 'tfidf_vectorizer.pkl')\n",
    "joblib.dump(best_model, 'best_model.pkl')"
   ]
  },
  {
   "cell_type": "code",
   "execution_count": 40,
   "metadata": {},
   "outputs": [],
   "source": [
    "def predict_sentiment(text, model=best_model):\n",
    "    \"\"\"End-to-end sentiment prediction pipeline\"\"\"\n",
    "    cleaned_text = preprocess_text(text)\n",
    "    vectorized_text = tfidf.transform([cleaned_text])\n",
    "    return model.predict(vectorized_text)[0]"
   ]
  },
  {
   "cell_type": "code",
   "execution_count": 41,
   "metadata": {},
   "outputs": [
    {
     "name": "stdout",
     "output_type": "stream",
     "text": [
      "\n",
      "Sample Predictions:\n",
      "\n",
      "Review: Misleading advertising. Total letdown.\n",
      "Predicted Sentiment: negative\n",
      "------------------------------------------------------------\n",
      "\n",
      "Review: Complicated to use and unreliable. Frustrating experience.\n",
      "Predicted Sentiment: positive\n",
      "------------------------------------------------------------\n",
      "\n",
      "Review: Worst purchase ever. Constant issues from day one.\n",
      "Predicted Sentiment: negative\n",
      "------------------------------------------------------------\n",
      "\n",
      "Review: Fast shipping and top-notch quality. Will buy again!\n",
      "Predicted Sentiment: positive\n",
      "------------------------------------------------------------\n",
      "\n",
      "Review: User-friendly design and outstanding performance. A game-changer!\n",
      "Predicted Sentiment: positive\n",
      "------------------------------------------------------------\n",
      "\n",
      "Review: Absolutely love this product! It exceeded all my expectations.\n",
      "Predicted Sentiment: positive\n",
      "------------------------------------------------------------\n",
      "\n",
      "Review: It is not really good.\n",
      "Predicted Sentiment: negative\n",
      "------------------------------------------------------------\n"
     ]
    }
   ],
   "source": [
    "test_reviews = [\n",
    "    \"Misleading advertising. Total letdown.\",\n",
    "    \"Complicated to use and unreliable. Frustrating experience.\",\n",
    "    \"Worst purchase ever. Constant issues from day one.\",\n",
    "    \"Fast shipping and top-notch quality. Will buy again!\",\n",
    "    \"User-friendly design and outstanding performance. A game-changer!\",\n",
    "    \"Absolutely love this product! It exceeded all my expectations.\",\n",
    "    \"It is not really good.\"\n",
    "]\n",
    "\n",
    "print(\"\\nSample Predictions:\")\n",
    "for review in test_reviews:\n",
    "    prediction = predict_sentiment(review)\n",
    "    print(f\"\\nReview: {review}\\nPredicted Sentiment: {prediction}\")\n",
    "    print(\"-\"*60)"
   ]
  },
  {
   "cell_type": "code",
   "execution_count": null,
   "metadata": {},
   "outputs": [],
   "source": []
  },
  {
   "cell_type": "code",
   "execution_count": null,
   "metadata": {},
   "outputs": [],
   "source": []
  }
 ],
 "metadata": {
  "kernelspec": {
   "display_name": "base",
   "language": "python",
   "name": "python3"
  },
  "language_info": {
   "codemirror_mode": {
    "name": "ipython",
    "version": 3
   },
   "file_extension": ".py",
   "mimetype": "text/x-python",
   "name": "python",
   "nbconvert_exporter": "python",
   "pygments_lexer": "ipython3",
   "version": "3.12.4"
  }
 },
 "nbformat": 4,
 "nbformat_minor": 2
}
